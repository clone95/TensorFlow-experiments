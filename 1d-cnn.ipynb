{
 "cells": [
  {
   "cell_type": "code",
   "execution_count": 5,
   "metadata": {},
   "outputs": [],
   "source": [
    "import tensorflow as tf\n",
    "import functions as funcs \n",
    "import matplotlib.pyplot as plt\n",
    "import numpy as np"
   ]
  },
  {
   "cell_type": "code",
   "execution_count": 2,
   "metadata": {},
   "outputs": [],
   "source": [
    "data = funcs.gen_cnn_series(10, 9)"
   ]
  },
  {
   "cell_type": "code",
   "execution_count": 3,
   "metadata": {},
   "outputs": [
    {
     "output_type": "execute_result",
     "data": {
      "text/plain": "[[0, 1, 2, 3, 4, 5, 6, 7, 8, 16],\n [1, 2, 3, 4, 5, 6, 7, 8, 9, 17],\n [2, 3, 4, 5, 6, 7, 8, 9, 10, 18],\n [3, 4, 5, 6, 7, 8, 9, 10, 11, 19],\n [4, 5, 6, 7, 8, 9, 10, 11, 12, 20],\n [5, 6, 7, 8, 9, 10, 11, 12, 13, 21],\n [6, 7, 8, 9, 10, 11, 12, 13, 14, 22],\n [7, 8, 9, 10, 11, 12, 13, 14, 15, 23],\n [8, 9, 10, 11, 12, 13, 14, 15, 16, 24],\n [9, 10, 11, 12, 13, 14, 15, 16, 17, 25]]"
     },
     "metadata": {},
     "execution_count": 3
    }
   ],
   "source": [
    "data"
   ]
  },
  {
   "cell_type": "code",
   "execution_count": 46,
   "metadata": {},
   "outputs": [
    {
     "output_type": "stream",
     "name": "stdout",
     "text": "[[0.10845013 1.31699277 2.44528376]\n [1.56478839 2.95844069 3.14472775]\n [2.94736173 3.0538879  4.58659443]] [1. 1. 1.]\n"
    }
   ],
   "source": [
    "def gen_np_cnn_series(examples, lenght, reverse=False):\n",
    "\n",
    "    series = np.random.rand(examples, lenght)\n",
    "    if not reverse:\n",
    "        for el in range(0, examples):\n",
    "            add = np.random.choice([10,11])\n",
    "            progression = np.arange(start=el, stop=el + lenght - 1, step=1)\n",
    "            series[el, :-1] = series[el, :-1] + progression \n",
    "            series[el, -1] = 1\n",
    "        return series[:, :-1], series[:, -1], series.shape\n",
    "    else:    \n",
    "        for el in range(0, examples):\n",
    "            add = np.random.choice([10,11])\n",
    "            progression = np.arange(start=el + lenght - 1, stop=el, step=1)\n",
    "            series[el, :-1] = series[el, :-1] + progression \n",
    "            series[el, -1] = 1\n",
    "        return series[:, :-1], series[:, -1], series.shape\n",
    "\n",
    "x_train, y_train, shape = gen_np_cnn_series(3, 4)\n",
    "x_train, y_train, shape = gen_np_cnn_series(3, 4, reverse=True)\n",
    "\n",
    "\n",
    "print(x_train, y_train)"
   ]
  },
  {
   "cell_type": "code",
   "execution_count": null,
   "metadata": {},
   "outputs": [],
   "source": []
  },
  {
   "cell_type": "code",
   "execution_count": null,
   "metadata": {},
   "outputs": [],
   "source": []
  }
 ],
 "metadata": {
  "language_info": {
   "codemirror_mode": {
    "name": "ipython",
    "version": 3
   },
   "file_extension": ".py",
   "mimetype": "text/x-python",
   "name": "python",
   "nbconvert_exporter": "python",
   "pygments_lexer": "ipython3",
   "version": "3.7.7-final"
  },
  "orig_nbformat": 2,
  "kernelspec": {
   "name": "python37764bitf82c4d7bf9ba4dab804f24620852e35e",
   "display_name": "Python 3.7.7 64-bit"
  }
 },
 "nbformat": 4,
 "nbformat_minor": 2
}